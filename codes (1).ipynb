{
 "cells": [
  {
   "cell_type": "code",
   "execution_count": null,
   "id": "0d9ecee3",
   "metadata": {},
   "outputs": [],
   "source": [
    "pip install Opencv-python"
   ]
  },
  {
   "cell_type": "code",
   "execution_count": null,
   "id": "992d7d0b",
   "metadata": {},
   "outputs": [],
   "source": [
    "import cv2\n",
    "import numpy as np\n",
    "\n",
    "# 1. Capture Video\n",
    "cap = cv2.VideoCapture(0)  # Or a video file\n",
    "\n",
    "# 2. Background Subtraction (Example - for moving crowds)\n",
    "bg_subtractor = cv2.createBackgroundSubtractorMOG2()\n",
    "\n",
    "# 3. Main Loop\n",
    "while True:\n",
    "    ret, frame = cap.read()\n",
    "    if not ret:\n",
    "        break\n",
    "\n",
    "    # 4. Preprocess Frame (e.g., resize, convert to grayscale)\n",
    "    frame = cv2.resize(frame, (640, 480))\n",
    "    gray = cv2.cvtColor(frame, cv2.COLOR_BGR2GRAY)\n",
    "\n",
    "    # 5. Apply Background Subtraction\n",
    "    fg_mask = bg_subtractor.apply(gray)\n",
    "\n",
    "    # 6.  Basic Blob Detection (Example - for counting moving regions)\n",
    "    contours, _ = cv2.findContours(fg_mask, cv2.RETR_EXTERNAL, cv2.CHAIN_APPROX_SIMPLE)\n",
    "    num_people = len(contours)  #  Crude approximation\n",
    "\n",
    "    # 7.  (Conceptual) Density Map Generation (Replace with a proper method)\n",
    "    density_map = np.zeros_like(gray, dtype=np.float32)\n",
    "    for contour in contours:\n",
    "        x, y, w, h = cv2.boundingRect(contour)\n",
    "        #  Instead of a single point,  you'd spread the \"density\"\n",
    "        #  around the location of the person, perhaps with a Gaussian.\n",
    "        cv2.circle(density_map, (x + w // 2, y + h // 2), 5, 20, -1)  # Simplified\n",
    "\n",
    "    # Normalize and convert to a displayable format\n",
    "    density_map = cv2.normalize(density_map, None, 0, 255, cv2.NORM_MINMAX).astype(np.uint8)\n",
    "    colored_density_map = cv2.applyColorMap(density_map, cv2.COLORMAP_JET)\n",
    "\n",
    "\n",
    "    # 8.  Visualization (Basic - extend this for creative output)\n",
    "    cv2.putText(frame, f\"People Count: {num_people}\", (10, 30), cv2.FONT_HERSHEY_SIMPLEX, 0.7, (255, 255, 255), 2)\n",
    "    cv2.imshow(\"Frame\", frame)\n",
    "    cv2.imshow(\"Foreground Mask\", fg_mask)\n",
    "    cv2.imshow(\"Density Map\", colored_density_map) # Show the density map\n",
    "\n",
    "    if cv2.waitKey(1) & 0xFF == ord('q'):\n",
    "        break\n",
    "\n",
    "cap.release()\n",
    "cv2.destroyAllWindows()\n"
   ]
  }
 ],
 "metadata": {
  "language_info": {
   "name": "python"
  }
 },
 "nbformat": 4,
 "nbformat_minor": 5
}
